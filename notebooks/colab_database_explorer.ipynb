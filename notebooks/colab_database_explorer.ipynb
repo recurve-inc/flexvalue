{
 "cells": [
  {
   "cell_type": "code",
   "execution_count": 1,
   "id": "67cf2924",
   "metadata": {},
   "outputs": [
    {
     "name": "stdout",
     "output_type": "stream",
     "text": [
      "Defaulting to user installation because normal site-packages is not writeable\n",
      "Requirement already satisfied: flexvalue==0.4.6 in /home/mkeas/.local/lib/python3.7/site-packages (0.4.6)\n",
      "Requirement already satisfied: click==8.0.3 in /home/mkeas/.local/lib/python3.7/site-packages (from flexvalue==0.4.6) (8.0.3)\n",
      "Requirement already satisfied: numpy<1.23.0 in /home/mkeas/.local/lib/python3.7/site-packages (from flexvalue==0.4.6) (1.21.6)\n",
      "Requirement already satisfied: matplotlib<3.6 in /home/mkeas/.local/lib/python3.7/site-packages (from flexvalue==0.4.6) (3.5.3)\n",
      "Requirement already satisfied: jinja2==3.0.3 in /home/mkeas/.local/lib/python3.7/site-packages (from flexvalue==0.4.6) (3.0.3)\n",
      "Requirement already satisfied: nbformat==5.1.3 in /home/mkeas/.local/lib/python3.7/site-packages (from flexvalue==0.4.6) (5.1.3)\n",
      "Requirement already satisfied: sqlalchemy<1.4.0 in /home/mkeas/.local/lib/python3.7/site-packages (from flexvalue==0.4.6) (1.3.24)\n",
      "Requirement already satisfied: scipy==1.7.2 in /home/mkeas/.local/lib/python3.7/site-packages (from flexvalue==0.4.6) (1.7.2)\n",
      "Requirement already satisfied: statsmodels==0.13.1 in /home/mkeas/.local/lib/python3.7/site-packages (from flexvalue==0.4.6) (0.13.1)\n",
      "Requirement already satisfied: pandas==1.3.4 in /home/mkeas/.local/lib/python3.7/site-packages (from flexvalue==0.4.6) (1.3.4)\n",
      "Requirement already satisfied: seaborn==0.11.2 in /home/mkeas/.local/lib/python3.7/site-packages (from flexvalue==0.4.6) (0.11.2)\n",
      "Requirement already satisfied: nbconvert==6.3.0 in /home/mkeas/.local/lib/python3.7/site-packages (from flexvalue==0.4.6) (6.3.0)\n",
      "Requirement already satisfied: importlib-metadata in /home/mkeas/.local/lib/python3.7/site-packages (from click==8.0.3->flexvalue==0.4.6) (4.11.4)\n",
      "Requirement already satisfied: MarkupSafe>=2.0 in /home/mkeas/.local/lib/python3.7/site-packages (from jinja2==3.0.3->flexvalue==0.4.6) (2.1.2)\n",
      "Requirement already satisfied: entrypoints>=0.2.2 in /home/mkeas/.local/lib/python3.7/site-packages (from nbconvert==6.3.0->flexvalue==0.4.6) (0.4)\n",
      "Requirement already satisfied: nbclient<0.6.0,>=0.5.0 in /home/mkeas/.local/lib/python3.7/site-packages (from nbconvert==6.3.0->flexvalue==0.4.6) (0.5.13)\n",
      "Requirement already satisfied: traitlets>=5.0 in /home/mkeas/.local/lib/python3.7/site-packages (from nbconvert==6.3.0->flexvalue==0.4.6) (5.9.0)\n",
      "Requirement already satisfied: jupyterlab-pygments in /home/mkeas/.local/lib/python3.7/site-packages (from nbconvert==6.3.0->flexvalue==0.4.6) (0.2.2)\n",
      "Requirement already satisfied: testpath in /home/mkeas/.local/lib/python3.7/site-packages (from nbconvert==6.3.0->flexvalue==0.4.6) (0.6.0)\n",
      "Requirement already satisfied: pandocfilters>=1.4.1 in /home/mkeas/.local/lib/python3.7/site-packages (from nbconvert==6.3.0->flexvalue==0.4.6) (1.5.0)\n",
      "Requirement already satisfied: bleach in /home/mkeas/.local/lib/python3.7/site-packages (from nbconvert==6.3.0->flexvalue==0.4.6) (6.0.0)\n",
      "Requirement already satisfied: mistune<2,>=0.8.1 in /home/mkeas/.local/lib/python3.7/site-packages (from nbconvert==6.3.0->flexvalue==0.4.6) (0.8.4)\n",
      "Requirement already satisfied: jupyter-core in /home/mkeas/.local/lib/python3.7/site-packages (from nbconvert==6.3.0->flexvalue==0.4.6) (4.12.0)\n",
      "Requirement already satisfied: pygments>=2.4.1 in /home/mkeas/.local/lib/python3.7/site-packages (from nbconvert==6.3.0->flexvalue==0.4.6) (2.14.0)\n",
      "Requirement already satisfied: defusedxml in /home/mkeas/.local/lib/python3.7/site-packages (from nbconvert==6.3.0->flexvalue==0.4.6) (0.7.1)\n",
      "Requirement already satisfied: ipython-genutils in /home/mkeas/.local/lib/python3.7/site-packages (from nbformat==5.1.3->flexvalue==0.4.6) (0.2.0)\n",
      "Requirement already satisfied: jsonschema!=2.5.0,>=2.4 in /home/mkeas/.local/lib/python3.7/site-packages (from nbformat==5.1.3->flexvalue==0.4.6) (3.2.0)\n",
      "Requirement already satisfied: python-dateutil>=2.7.3 in /home/mkeas/.local/lib/python3.7/site-packages (from pandas==1.3.4->flexvalue==0.4.6) (2.8.2)\n",
      "Requirement already satisfied: pytz>=2017.3 in /home/mkeas/.local/lib/python3.7/site-packages (from pandas==1.3.4->flexvalue==0.4.6) (2023.2)\n",
      "Requirement already satisfied: patsy>=0.5.2 in /home/mkeas/.local/lib/python3.7/site-packages (from statsmodels==0.13.1->flexvalue==0.4.6) (0.5.3)\n",
      "Requirement already satisfied: kiwisolver>=1.0.1 in /home/mkeas/.local/lib/python3.7/site-packages (from matplotlib<3.6->flexvalue==0.4.6) (1.4.4)\n",
      "Requirement already satisfied: fonttools>=4.22.0 in /home/mkeas/.local/lib/python3.7/site-packages (from matplotlib<3.6->flexvalue==0.4.6) (4.38.0)\n",
      "Requirement already satisfied: pillow>=6.2.0 in /home/mkeas/.local/lib/python3.7/site-packages (from matplotlib<3.6->flexvalue==0.4.6) (9.4.0)\n",
      "Requirement already satisfied: cycler>=0.10 in /home/mkeas/.local/lib/python3.7/site-packages (from matplotlib<3.6->flexvalue==0.4.6) (0.11.0)\n",
      "Requirement already satisfied: packaging>=20.0 in /home/mkeas/.local/lib/python3.7/site-packages (from matplotlib<3.6->flexvalue==0.4.6) (23.0)\n",
      "Requirement already satisfied: pyparsing>=2.2.1 in /home/mkeas/.local/lib/python3.7/site-packages (from matplotlib<3.6->flexvalue==0.4.6) (3.0.9)\n",
      "Requirement already satisfied: six>=1.11.0 in /home/mkeas/.local/lib/python3.7/site-packages (from jsonschema!=2.5.0,>=2.4->nbformat==5.1.3->flexvalue==0.4.6) (1.16.0)\n",
      "Requirement already satisfied: setuptools in /home/mkeas/.local/lib/python3.7/site-packages (from jsonschema!=2.5.0,>=2.4->nbformat==5.1.3->flexvalue==0.4.6) (62.3.2)\n",
      "Requirement already satisfied: attrs>=17.4.0 in /usr/lib/python3/dist-packages (from jsonschema!=2.5.0,>=2.4->nbformat==5.1.3->flexvalue==0.4.6) (17.4.0)\n",
      "Requirement already satisfied: pyrsistent>=0.14.0 in /home/mkeas/.local/lib/python3.7/site-packages (from jsonschema!=2.5.0,>=2.4->nbformat==5.1.3->flexvalue==0.4.6) (0.19.3)\n",
      "Requirement already satisfied: typing-extensions in /home/mkeas/.local/lib/python3.7/site-packages (from kiwisolver>=1.0.1->matplotlib<3.6->flexvalue==0.4.6) (4.2.0)\n",
      "Requirement already satisfied: jupyter-client>=6.1.5 in /home/mkeas/.local/lib/python3.7/site-packages (from nbclient<0.6.0,>=0.5.0->nbconvert==6.3.0->flexvalue==0.4.6) (7.4.9)\n",
      "Requirement already satisfied: nest-asyncio in /home/mkeas/.local/lib/python3.7/site-packages (from nbclient<0.6.0,>=0.5.0->nbconvert==6.3.0->flexvalue==0.4.6) (1.5.6)\n",
      "Requirement already satisfied: webencodings in /home/mkeas/.local/lib/python3.7/site-packages (from bleach->nbconvert==6.3.0->flexvalue==0.4.6) (0.5.1)\n",
      "Requirement already satisfied: zipp>=0.5 in /home/mkeas/.local/lib/python3.7/site-packages (from importlib-metadata->click==8.0.3->flexvalue==0.4.6) (3.8.0)\n",
      "Requirement already satisfied: pyzmq>=23.0 in /home/mkeas/.local/lib/python3.7/site-packages (from jupyter-client>=6.1.5->nbclient<0.6.0,>=0.5.0->nbconvert==6.3.0->flexvalue==0.4.6) (25.0.0)\n",
      "Requirement already satisfied: tornado>=6.2 in /home/mkeas/.local/lib/python3.7/site-packages (from jupyter-client>=6.1.5->nbclient<0.6.0,>=0.5.0->nbconvert==6.3.0->flexvalue==0.4.6) (6.2)\n",
      "\u001b[33mWARNING: There was an error checking the latest version of pip.\u001b[0m\u001b[33m\n",
      "\u001b[0mNote: you may need to restart the kernel to use updated packages.\n"
     ]
    }
   ],
   "source": [
    "pip install flexvalue==0.4.6"
   ]
  },
  {
   "cell_type": "code",
   "execution_count": null,
   "id": "ac546b14",
   "metadata": {},
   "outputs": [],
   "source": [
    "version = '2020'\n",
    "!flexvalue download-avoided-costs-data-db --version $version"
   ]
  },
  {
   "cell_type": "code",
   "execution_count": null,
   "id": "cfa429a2",
   "metadata": {},
   "outputs": [],
   "source": [
    "import os\n",
    "\n",
    "try:\n",
    "    from google.colab import files\n",
    "    os.environ['DATABASE_LOCATION'] = '.'\n",
    "except:\n",
    "    print(\"This is not being run in a colab, so the download functions will not work.\")\n",
    "    os.environ['DATABASE_LOCATION'] = '../'\n",
    "    pass\n",
    "import pandas as pd\n",
    "from io import BytesIO\n",
    "\n",
    "import sqlite3"
   ]
  },
  {
   "cell_type": "code",
   "execution_count": null,
   "id": "4d56f653",
   "metadata": {},
   "outputs": [],
   "source": [
    "database_version = '2020'\n",
    "\n",
    "db_filepath = os.path.join(os.environ['DATABASE_LOCATION'], f\"{database_version}.db\")\n",
    "con = sqlite3.connect(db_filepath)\n",
    "df_deer_load_shapes = pd.read_sql(\"select * from deer_load_shapes\", con=con).drop(\"local_pkid_\", axis=1)"
   ]
  },
  {
   "cell_type": "code",
   "execution_count": null,
   "id": "9eea7b17",
   "metadata": {},
   "outputs": [],
   "source": [
    "utility_options = list(set([c.split('_')[0] for c in df_deer_load_shapes.columns if c!='hour_of_year']))\n",
    "deer_load_shape_options = list(set(['_'.join(c.split('_')[1:]) for c in df_deer_load_shapes.columns if c!='hour_of_year']))\n",
    "\n",
    "print(\"The following utilities are available to explore:\")\n",
    "print(utility_options)\n",
    "print()\n",
    "print(\"The following deer load shapes are available to explore:\")\n",
    "deer_load_shape_options"
   ]
  },
  {
   "cell_type": "code",
   "execution_count": null,
   "id": "0dea8d9f",
   "metadata": {},
   "outputs": [],
   "source": [
    "from bokeh.plotting import figure, show\n",
    "from bokeh.io import output_notebook\n",
    "from bokeh.palettes import Category10_10 as palette\n",
    "\n",
    "# Call once to configure Bokeh to display plots inline in the notebook.\n",
    "output_notebook()"
   ]
  },
  {
   "cell_type": "code",
   "execution_count": null,
   "id": "478dd710",
   "metadata": {},
   "outputs": [],
   "source": [
    "utilities = ['PGE','SCE']\n",
    "deer_load_shapes = ['RES_HVAC_EFF_AC']\n",
    "column_names = [f'{utility}_{deer_load_shape}' for utility in utilities for deer_load_shape in deer_load_shapes]\n",
    "\n",
    "p = figure(tools=\"xwheel_zoom,box_zoom,undo,redo,reset,save\", active_scroll='xwheel_zoom', plot_width=1000, plot_height=400)\n",
    "for i, column_name in enumerate(column_names):\n",
    "    p.line(x=df_deer_load_shapes['hour_of_year'], y=df_deer_load_shapes[column_name], color=palette[i], legend_label=column_name, alpha=0.5)\n",
    "show(p)"
   ]
  },
  {
   "cell_type": "code",
   "execution_count": null,
   "id": "4a034ca0",
   "metadata": {},
   "outputs": [],
   "source": [
    "# If you want to download the full deer load shapes file, run this cell (only works in colab)\n",
    "df_deer_load_shapes.to_csv('deer_load_shape.csv')\n",
    "files.download('deer_load_shape.csv')"
   ]
  },
  {
   "cell_type": "code",
   "execution_count": null,
   "id": "34db8051",
   "metadata": {},
   "outputs": [],
   "source": [
    "df_avoided_costs = pd.read_sql(\"select * from acc_electricity\", con=con).drop(\"local_pkid_\", axis=1)"
   ]
  },
  {
   "cell_type": "code",
   "execution_count": null,
   "id": "c1992d87",
   "metadata": {},
   "outputs": [],
   "source": [
    "# If you want to download the full avoided costs file (warning, this is about 2GB), run this cell (only works in colab)\n",
    "df_avoided_costs.to_csv('avoided_costs.csv')\n",
    "files.download('avoided_costs.csv')"
   ]
  }
 ],
 "metadata": {
  "kernelspec": {
   "display_name": "Python 3",
   "language": "python",
   "name": "python3"
  },
  "language_info": {
   "codemirror_mode": {
    "name": "ipython",
    "version": 3
   },
   "file_extension": ".py",
   "mimetype": "text/x-python",
   "name": "python",
   "nbconvert_exporter": "python",
   "pygments_lexer": "ipython3",
   "version": "3.7.5"
  }
 },
 "nbformat": 4,
 "nbformat_minor": 5
}
