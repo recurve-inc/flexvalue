{
 "cells": [
  {
   "cell_type": "code",
   "execution_count": null,
   "id": "67cf2924",
   "metadata": {},
   "outputs": [],
   "source": [
    "pip install flexvalue --upgrade"
   ]
  },
  {
   "cell_type": "code",
   "execution_count": null,
   "id": "ac546b14",
   "metadata": {},
   "outputs": [],
   "source": [
    "year = '2020'\n",
    "!flexvalue download-avoided-costs-data-db --year $year"
   ]
  },
  {
   "cell_type": "code",
   "execution_count": null,
   "id": "cfa429a2",
   "metadata": {},
   "outputs": [],
   "source": [
    "import os\n",
    "\n",
    "try:\n",
    "    from google.colab import files\n",
    "    os.environ['DATABASE_LOCATION'] = '.'\n",
    "except:\n",
    "    print(\"This is not being run in a colab, so the download functions will not work.\")\n",
    "    os.environ['DATABASE_LOCATION'] = '../'\n",
    "    pass\n",
    "import pandas as pd\n",
    "from io import BytesIO\n",
    "\n",
    "import sqlite3"
   ]
  },
  {
   "cell_type": "code",
   "execution_count": null,
   "id": "4d56f653",
   "metadata": {},
   "outputs": [],
   "source": [
    "database_year = '2020'\n",
    "\n",
    "db_filepath = os.path.join(os.environ['DATABASE_LOCATION'], f\"{database_year}.db\")\n",
    "con = sqlite3.connect(db_filepath)\n",
    "df_deer_load_shapes = pd.read_sql(\"select * from deer_load_shapes\", con=con).drop(\"local_pkid_\", axis=1)"
   ]
  },
  {
   "cell_type": "code",
   "execution_count": null,
   "id": "9eea7b17",
   "metadata": {},
   "outputs": [],
   "source": [
    "utility_options = list(set([c.split('_')[0] for c in df_deer_load_shapes.columns if c!='hour_of_year']))\n",
    "deer_load_shape_options = list(set(['_'.join(c.split('_')[1:]) for c in df_deer_load_shapes.columns if c!='hour_of_year']))\n",
    "\n",
    "print(\"The following utilities are available to explore:\")\n",
    "print(utility_options)\n",
    "print()\n",
    "print(\"The following deer load shapes are available to explore:\")\n",
    "deer_load_shape_options"
   ]
  },
  {
   "cell_type": "code",
   "execution_count": null,
   "id": "0dea8d9f",
   "metadata": {},
   "outputs": [],
   "source": [
    "from bokeh.plotting import figure, show\n",
    "from bokeh.io import output_notebook\n",
    "from bokeh.palettes import Category10_10 as palette\n",
    "\n",
    "# Call once to configure Bokeh to display plots inline in the notebook.\n",
    "output_notebook()"
   ]
  },
  {
   "cell_type": "code",
   "execution_count": null,
   "id": "478dd710",
   "metadata": {},
   "outputs": [],
   "source": [
    "utilities = ['PGE','SCE']\n",
    "deer_load_shapes = ['RES_HVAC_EFF_AC']\n",
    "column_names = [f'{utility}_{deer_load_shape}' for utility in utilities for deer_load_shape in deer_load_shapes]\n",
    "\n",
    "p = figure(tools=\"xwheel_zoom,box_zoom,undo,redo,reset,save\", active_scroll='xwheel_zoom', plot_width=1000, plot_height=400)\n",
    "for i, column_name in enumerate(column_names):\n",
    "    p.line(x=df_deer_load_shapes['hour_of_year'], y=df_deer_load_shapes[column_name], color=palette[i], legend_label=column_name, alpha=0.5)\n",
    "show(p)"
   ]
  },
  {
   "cell_type": "code",
   "execution_count": null,
   "id": "4a034ca0",
   "metadata": {},
   "outputs": [],
   "source": [
    "# If you want to download the full deer load shapes file, run this cell (only works in colab)\n",
    "df_deer_load_shapes.to_csv('deer_load_shape.csv')\n",
    "files.download('deer_load_shape.csv')"
   ]
  },
  {
   "cell_type": "code",
   "execution_count": null,
   "id": "34db8051",
   "metadata": {},
   "outputs": [],
   "source": [
    "df_avoided_costs = pd.read_sql(\"select * from acc_electricity\", con=con).drop(\"local_pkid_\", axis=1)"
   ]
  },
  {
   "cell_type": "code",
   "execution_count": null,
   "id": "c1992d87",
   "metadata": {},
   "outputs": [],
   "source": [
    "# If you want to download the full avoided costs file (warning, this is about 2GB), run this cell (only works in colab)\n",
    "df_avoided_costs.to_csv('avoided_costs.csv')\n",
    "files.download('avoided_costs.csv')"
   ]
  }
 ],
 "metadata": {
  "kernelspec": {
   "display_name": "Python 3",
   "language": "python",
   "name": "python3"
  },
  "language_info": {
   "codemirror_mode": {
    "name": "ipython",
    "version": 3
   },
   "file_extension": ".py",
   "mimetype": "text/x-python",
   "name": "python",
   "nbconvert_exporter": "python",
   "pygments_lexer": "ipython3",
   "version": "3.7.4"
  }
 },
 "nbformat": 4,
 "nbformat_minor": 5
}
