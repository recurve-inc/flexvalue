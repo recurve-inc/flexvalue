{
 "cells": [
  {
   "cell_type": "code",
   "execution_count": 1,
   "id": "40c66073",
   "metadata": {},
   "outputs": [
    {
     "name": "stdout",
     "output_type": "stream",
     "text": [
      "Defaulting to user installation because normal site-packages is not writeable\n",
      "Requirement already satisfied: flexvalue==0.4.6 in /home/mkeas/.local/lib/python3.7/site-packages (0.4.6)\n",
      "Requirement already satisfied: statsmodels==0.13.1 in /home/mkeas/.local/lib/python3.7/site-packages (from flexvalue==0.4.6) (0.13.1)\n",
      "Requirement already satisfied: seaborn==0.11.2 in /home/mkeas/.local/lib/python3.7/site-packages (from flexvalue==0.4.6) (0.11.2)\n",
      "Requirement already satisfied: nbformat==5.1.3 in /home/mkeas/.local/lib/python3.7/site-packages (from flexvalue==0.4.6) (5.1.3)\n",
      "Requirement already satisfied: matplotlib<3.6 in /home/mkeas/.local/lib/python3.7/site-packages (from flexvalue==0.4.6) (3.5.3)\n",
      "Requirement already satisfied: scipy==1.7.2 in /home/mkeas/.local/lib/python3.7/site-packages (from flexvalue==0.4.6) (1.7.2)\n",
      "Requirement already satisfied: pandas==1.3.4 in /home/mkeas/.local/lib/python3.7/site-packages (from flexvalue==0.4.6) (1.3.4)\n",
      "Requirement already satisfied: numpy<1.23.0 in /home/mkeas/.local/lib/python3.7/site-packages (from flexvalue==0.4.6) (1.21.6)\n",
      "Collecting jinja2==3.0.3\n",
      "  Using cached Jinja2-3.0.3-py3-none-any.whl (133 kB)\n",
      "Requirement already satisfied: sqlalchemy<1.4.0 in /home/mkeas/.local/lib/python3.7/site-packages (from flexvalue==0.4.6) (1.3.24)\n",
      "Requirement already satisfied: click==8.0.3 in /home/mkeas/.local/lib/python3.7/site-packages (from flexvalue==0.4.6) (8.0.3)\n",
      "Requirement already satisfied: nbconvert==6.3.0 in /home/mkeas/.local/lib/python3.7/site-packages (from flexvalue==0.4.6) (6.3.0)\n",
      "Requirement already satisfied: importlib-metadata in /home/mkeas/.local/lib/python3.7/site-packages (from click==8.0.3->flexvalue==0.4.6) (4.11.4)\n",
      "Requirement already satisfied: MarkupSafe>=2.0 in /home/mkeas/.local/lib/python3.7/site-packages (from jinja2==3.0.3->flexvalue==0.4.6) (2.1.2)\n",
      "Requirement already satisfied: pandocfilters>=1.4.1 in /home/mkeas/.local/lib/python3.7/site-packages (from nbconvert==6.3.0->flexvalue==0.4.6) (1.5.0)\n",
      "Requirement already satisfied: jupyterlab-pygments in /home/mkeas/.local/lib/python3.7/site-packages (from nbconvert==6.3.0->flexvalue==0.4.6) (0.2.2)\n",
      "Requirement already satisfied: nbclient<0.6.0,>=0.5.0 in /home/mkeas/.local/lib/python3.7/site-packages (from nbconvert==6.3.0->flexvalue==0.4.6) (0.5.13)\n",
      "Requirement already satisfied: testpath in /home/mkeas/.local/lib/python3.7/site-packages (from nbconvert==6.3.0->flexvalue==0.4.6) (0.6.0)\n",
      "Requirement already satisfied: jupyter-core in /home/mkeas/.local/lib/python3.7/site-packages (from nbconvert==6.3.0->flexvalue==0.4.6) (4.12.0)\n",
      "Requirement already satisfied: mistune<2,>=0.8.1 in /home/mkeas/.local/lib/python3.7/site-packages (from nbconvert==6.3.0->flexvalue==0.4.6) (0.8.4)\n",
      "Requirement already satisfied: traitlets>=5.0 in /home/mkeas/.local/lib/python3.7/site-packages (from nbconvert==6.3.0->flexvalue==0.4.6) (5.9.0)\n",
      "Requirement already satisfied: pygments>=2.4.1 in /home/mkeas/.local/lib/python3.7/site-packages (from nbconvert==6.3.0->flexvalue==0.4.6) (2.14.0)\n",
      "Requirement already satisfied: bleach in /home/mkeas/.local/lib/python3.7/site-packages (from nbconvert==6.3.0->flexvalue==0.4.6) (6.0.0)\n",
      "Requirement already satisfied: defusedxml in /home/mkeas/.local/lib/python3.7/site-packages (from nbconvert==6.3.0->flexvalue==0.4.6) (0.7.1)\n",
      "Requirement already satisfied: entrypoints>=0.2.2 in /home/mkeas/.local/lib/python3.7/site-packages (from nbconvert==6.3.0->flexvalue==0.4.6) (0.4)\n",
      "Requirement already satisfied: ipython-genutils in /home/mkeas/.local/lib/python3.7/site-packages (from nbformat==5.1.3->flexvalue==0.4.6) (0.2.0)\n",
      "Requirement already satisfied: jsonschema!=2.5.0,>=2.4 in /home/mkeas/.local/lib/python3.7/site-packages (from nbformat==5.1.3->flexvalue==0.4.6) (3.2.0)\n",
      "Requirement already satisfied: python-dateutil>=2.7.3 in /home/mkeas/.local/lib/python3.7/site-packages (from pandas==1.3.4->flexvalue==0.4.6) (2.8.2)\n",
      "Requirement already satisfied: pytz>=2017.3 in /home/mkeas/.local/lib/python3.7/site-packages (from pandas==1.3.4->flexvalue==0.4.6) (2023.2)\n",
      "Requirement already satisfied: patsy>=0.5.2 in /home/mkeas/.local/lib/python3.7/site-packages (from statsmodels==0.13.1->flexvalue==0.4.6) (0.5.3)\n",
      "Requirement already satisfied: packaging>=20.0 in /home/mkeas/.local/lib/python3.7/site-packages (from matplotlib<3.6->flexvalue==0.4.6) (23.0)\n",
      "Requirement already satisfied: kiwisolver>=1.0.1 in /home/mkeas/.local/lib/python3.7/site-packages (from matplotlib<3.6->flexvalue==0.4.6) (1.4.4)\n",
      "Requirement already satisfied: pillow>=6.2.0 in /home/mkeas/.local/lib/python3.7/site-packages (from matplotlib<3.6->flexvalue==0.4.6) (9.4.0)\n",
      "Requirement already satisfied: cycler>=0.10 in /home/mkeas/.local/lib/python3.7/site-packages (from matplotlib<3.6->flexvalue==0.4.6) (0.11.0)\n",
      "Requirement already satisfied: pyparsing>=2.2.1 in /home/mkeas/.local/lib/python3.7/site-packages (from matplotlib<3.6->flexvalue==0.4.6) (3.0.9)\n",
      "Requirement already satisfied: fonttools>=4.22.0 in /home/mkeas/.local/lib/python3.7/site-packages (from matplotlib<3.6->flexvalue==0.4.6) (4.38.0)\n",
      "Requirement already satisfied: six>=1.11.0 in /home/mkeas/.local/lib/python3.7/site-packages (from jsonschema!=2.5.0,>=2.4->nbformat==5.1.3->flexvalue==0.4.6) (1.16.0)\n",
      "Requirement already satisfied: pyrsistent>=0.14.0 in /home/mkeas/.local/lib/python3.7/site-packages (from jsonschema!=2.5.0,>=2.4->nbformat==5.1.3->flexvalue==0.4.6) (0.19.3)\n",
      "Requirement already satisfied: setuptools in /home/mkeas/.local/lib/python3.7/site-packages (from jsonschema!=2.5.0,>=2.4->nbformat==5.1.3->flexvalue==0.4.6) (62.3.2)\n",
      "Requirement already satisfied: attrs>=17.4.0 in /usr/lib/python3/dist-packages (from jsonschema!=2.5.0,>=2.4->nbformat==5.1.3->flexvalue==0.4.6) (17.4.0)\n",
      "Requirement already satisfied: typing-extensions in /home/mkeas/.local/lib/python3.7/site-packages (from kiwisolver>=1.0.1->matplotlib<3.6->flexvalue==0.4.6) (4.2.0)\n",
      "Requirement already satisfied: jupyter-client>=6.1.5 in /home/mkeas/.local/lib/python3.7/site-packages (from nbclient<0.6.0,>=0.5.0->nbconvert==6.3.0->flexvalue==0.4.6) (7.4.9)\n",
      "Requirement already satisfied: nest-asyncio in /home/mkeas/.local/lib/python3.7/site-packages (from nbclient<0.6.0,>=0.5.0->nbconvert==6.3.0->flexvalue==0.4.6) (1.5.6)\n",
      "Requirement already satisfied: webencodings in /home/mkeas/.local/lib/python3.7/site-packages (from bleach->nbconvert==6.3.0->flexvalue==0.4.6) (0.5.1)\n",
      "Requirement already satisfied: zipp>=0.5 in /home/mkeas/.local/lib/python3.7/site-packages (from importlib-metadata->click==8.0.3->flexvalue==0.4.6) (3.8.0)\n",
      "Requirement already satisfied: tornado>=6.2 in /home/mkeas/.local/lib/python3.7/site-packages (from jupyter-client>=6.1.5->nbclient<0.6.0,>=0.5.0->nbconvert==6.3.0->flexvalue==0.4.6) (6.2)\n",
      "Requirement already satisfied: pyzmq>=23.0 in /home/mkeas/.local/lib/python3.7/site-packages (from jupyter-client>=6.1.5->nbclient<0.6.0,>=0.5.0->nbconvert==6.3.0->flexvalue==0.4.6) (25.0.0)\n",
      "Installing collected packages: jinja2\n",
      "  Attempting uninstall: jinja2\n",
      "    Found existing installation: Jinja2 3.1.2\n",
      "    Uninstalling Jinja2-3.1.2:\n",
      "      Successfully uninstalled Jinja2-3.1.2\n",
      "\u001b[31mERROR: pip's dependency resolver does not currently take into account all the packages that are installed. This behaviour is the source of the following dependency conflicts.\n",
      "dbt-core 1.4.5 requires Jinja2==3.1.2, but you have jinja2 3.0.3 which is incompatible.\u001b[0m\u001b[31m\n",
      "\u001b[0mSuccessfully installed jinja2-3.0.3\n",
      "\u001b[33mWARNING: There was an error checking the latest version of pip.\u001b[0m\u001b[33m\n",
      "\u001b[0mNote: you may need to restart the kernel to use updated packages.\n"
     ]
    }
   ],
   "source": [
    "pip install flexvalue==0.4.6"
   ]
  },
  {
   "attachments": {},
   "cell_type": "markdown",
   "id": "fd8a01d1",
   "metadata": {},
   "source": [
    "### Change the version below from 2020 to adjusted_acc_map or 2021 to see the results using a different ACC version."
   ]
  },
  {
   "cell_type": "code",
   "execution_count": null,
   "id": "07084a8c",
   "metadata": {},
   "outputs": [],
   "source": [
    "version = '2020'\n",
    "!flexvalue download-avoided-costs-data-db --version $version"
   ]
  },
  {
   "cell_type": "code",
   "execution_count": null,
   "id": "d3b6e826",
   "metadata": {},
   "outputs": [],
   "source": [
    "from google.colab import files\n",
    "import pandas as pd\n",
    "from io import BytesIO\n",
    "pd.set_option('display.max_rows', None)"
   ]
  },
  {
   "cell_type": "code",
   "execution_count": null,
   "id": "d708781e",
   "metadata": {},
   "outputs": [],
   "source": [
    "print(\"You must upload a user inputs file. To see an example, try out:\")\n",
    "print(\"https://storage.googleapis.com/flexvalue-public-resources/examples/example_user_inputs_metered.csv\")\n",
    "\n",
    "print(\"For a list of all DEER loadshapes, see:\")\n",
    "print(\"https://storage.googleapis.com/flexvalue-public-resources/examples/deer_loadshapes.csv\")"
   ]
  },
  {
   "cell_type": "code",
   "execution_count": null,
   "id": "2f9672d1",
   "metadata": {},
   "outputs": [],
   "source": [
    "user_inputs_dict = files.upload()\n",
    "\n",
    "if len(user_inputs_dict)!=1:\n",
    "    print(\"Must select exactly one file\")\n",
    "else:\n",
    "    user_inputs = pd.read_csv(BytesIO(list(user_inputs_dict.values())[0])).dropna(how='all')\n",
    "    user_input_filename = list(user_inputs_dict.keys())[0]\n",
    "metered_load_shape_df = None"
   ]
  },
  {
   "cell_type": "code",
   "execution_count": null,
   "id": "22cfc39d",
   "metadata": {},
   "outputs": [],
   "source": [
    "user_inputs"
   ]
  },
  {
   "cell_type": "code",
   "execution_count": null,
   "id": "476b3896",
   "metadata": {},
   "outputs": [],
   "source": [
    "print(\"You can optionally upload a custom metered load shape. If using the previous example, also upload this file:\")\n",
    "print(\"https://storage.googleapis.com/flexvalue-public-resources/examples/example_metered_load_shapes.csv\")\n",
    "print(\"If you want to use a custom load shape, either don't run the following cell, or run it and hit 'Cancel Upload'\")"
   ]
  },
  {
   "cell_type": "code",
   "execution_count": null,
   "id": "276e6771",
   "metadata": {},
   "outputs": [],
   "source": [
    "metered_ls_dict = files.upload()\n",
    "if len(metered_ls_dict)==0:\n",
    "    metered_load_shape_df = None\n",
    "elif len(metered_ls_dict) == 1:\n",
    "    metered_load_shape = list(metered_ls_dict.values())[0]\n",
    "    metered_load_shape_df = pd.read_csv(BytesIO(metered_load_shape)).set_index('hour_of_year')\n",
    "else:\n",
    "    print(\"Must select at most one file\")"
   ]
  },
  {
   "cell_type": "code",
   "execution_count": null,
   "id": "a92e687a",
   "metadata": {},
   "outputs": [],
   "source": [
    "from flexvalue import FlexValueRun\n",
    "\n",
    "flx_run = FlexValueRun(database_version=version, metered_load_shape=metered_load_shape_df)\n",
    "\n",
    "outputs_table, outputs_table_totals, electric_benefits, gas_benefits = flx_run.get_results(user_inputs=user_inputs)\n",
    "outputs_table"
   ]
  },
  {
   "cell_type": "code",
   "execution_count": null,
   "id": "8c657cbe",
   "metadata": {},
   "outputs": [],
   "source": [
    "outputs_table_totals"
   ]
  },
  {
   "cell_type": "code",
   "execution_count": null,
   "id": "c12a7b1d",
   "metadata": {},
   "outputs": [],
   "source": [
    "# Run this cell if you want to download the FLEXvalue output.\n",
    "from pathlib import Path\n",
    "user_input_filename_no_ext = Path(user_input_filename).stem\n",
    "outputs_filename = f'{user_input_filename_no_ext}_outputs.csv'\n",
    "outputs_table.to_csv(outputs_filename)\n",
    "files.download(outputs_filename)"
   ]
  },
  {
   "cell_type": "code",
   "execution_count": null,
   "id": "ba600c09",
   "metadata": {},
   "outputs": [],
   "source": [
    "from flexvalue.plots import plot_results\n",
    "plot_results(outputs_table_totals, electric_benefits, gas_benefits)"
   ]
  }
 ],
 "metadata": {
  "kernelspec": {
   "display_name": "Python 3",
   "language": "python",
   "name": "python3"
  },
  "language_info": {
   "codemirror_mode": {
    "name": "ipython",
    "version": 3
   },
   "file_extension": ".py",
   "mimetype": "text/x-python",
   "name": "python",
   "nbconvert_exporter": "python",
   "pygments_lexer": "ipython3",
   "version": "3.7.5"
  }
 },
 "nbformat": 4,
 "nbformat_minor": 5
}
