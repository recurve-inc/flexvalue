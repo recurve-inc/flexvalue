{
 "cells": [
  {
   "cell_type": "code",
   "execution_count": null,
   "id": "4ff524a4",
   "metadata": {},
   "outputs": [],
   "source": [
    "pip install flexvalue --upgrade"
   ]
  },
  {
   "cell_type": "code",
   "execution_count": null,
   "id": "72979d83",
   "metadata": {},
   "outputs": [],
   "source": [
    "!flexvalue download-avoided-costs-data-db --year 2020"
   ]
  },
  {
   "cell_type": "code",
   "execution_count": null,
   "id": "34f09077",
   "metadata": {},
   "outputs": [],
   "source": [
    "import os\n",
    "try:\n",
    "    # only works from colab\n",
    "    from google.colab import files\n",
    "except:\n",
    "    if not os.environ.get('DATABASE_LOCATION_ORIG'):\n",
    "        os.environ[\"DATABASE_LOCATION_ORIG\"] = os.environ.get('DATABASE_LOCATION', '.')\n",
    "    os.environ[\"DATABASE_LOCATION\"] = '../' + os.environ['DATABASE_LOCATION_ORIG'] \n",
    "import pandas as pd\n",
    "\n",
    "pd.set_option('display.max_rows', None)"
   ]
  },
  {
   "cell_type": "code",
   "execution_count": null,
   "id": "73b9c3e3",
   "metadata": {},
   "outputs": [],
   "source": [
    "from flexvalue.cet_flexvalue_compare import CET_Scan\n",
    "from pathlib import Path\n",
    "\n",
    "acc_version = '2020'\n",
    "directory = 'cet_scan'\n",
    "scan_name = 'Test_Run'\n",
    "cet_scan = CET_Scan(\n",
    "    directory=directory,\n",
    "    scan_name=scan_name,\n",
    "    program_year=\"2021\",\n",
    "    acc_version=acc_version,\n",
    "    program_admin=\"PGE\",\n",
    "    climate_zone=[\"12\", \"3A\", \"4\"],\n",
    "    mwh=[5000, 10, 2],\n",
    "    therms=[200, 3, 114],\n",
    "    units=[1, 1, 10],\n",
    "    ntg=[0.95, 0.4, 0.9],\n",
    "    eul=[7, 1, 1],\n",
    "    sector=[\"Non_Res\", \"Res\", \"Res\"],\n",
    "    deer_load_shape=[\n",
    "        \"DEER:HVAC_Chillers\",\n",
    "        \"DEER:HVAC_Chillers\",\n",
    "        \"DEER:Indoor_CFL_Ltg\",\n",
    "    ],\n",
    "    gas_sector=[\"Commercial\", \"Residential\", \"Residential\"],\n",
    "    gas_savings_profile=[\"Annual\", \"Winter Only\", \"Summer Only\"],\n",
    "    admin_cost=[5000, 165, 299],\n",
    "    measure_cost=[220000, 310, 4044],\n",
    "    incentive=[200000, 66, 800],\n",
    ")\n",
    "\n",
    "user_inputs = cet_scan.generate_cet_input_file()\n",
    "print(\"Input and output files will be made available for download in subsequent cells.\")\n",
    "user_inputs"
   ]
  },
  {
   "cell_type": "code",
   "execution_count": null,
   "id": "ca0e0516",
   "metadata": {},
   "outputs": [],
   "source": [
    "# This step downloads the CET zip file that you can then upload to CEDARS\n",
    "cet_zip_filepath = os.path.join(cet_scan.cet_path, f'{scan_name}.zip')\n",
    "files.download(cet_zip_filepath)\n",
    "print(\"Make sure to set the CET Run Parameters with the following:\\n- First year: 2021\\n- Avoided Costs: 2021\\n- Market Effects: 0%\")\n",
    "print('https://cedars.sound-data.com/accounts/login/?next=/cet_ui/')"
   ]
  },
  {
   "cell_type": "code",
   "execution_count": null,
   "id": "9f9b5e75",
   "metadata": {},
   "outputs": [],
   "source": [
    "from flexvalue import FlexValueRun\n",
    "flx_run = FlexValueRun(database_year=acc_version)\n",
    "outputs_table, outputs_table_totals, electric_benefits, gas_benefits = flx_run.get_results(user_inputs=user_inputs)"
   ]
  },
  {
   "cell_type": "code",
   "execution_count": null,
   "id": "9382c9b4",
   "metadata": {},
   "outputs": [],
   "source": [
    "display(outputs_table)"
   ]
  },
  {
   "cell_type": "code",
   "execution_count": null,
   "id": "25864221",
   "metadata": {},
   "outputs": [],
   "source": [
    "# Run this cell if you want to download the FLEXvalue output.\n",
    "outputs_filename = os.path.join(cet_scan.flexvalue_path, 'flexvalue_outputs.csv')\n",
    "outputs_table.to_csv(outputs_filename)\n",
    "files.download(outputs_filename)"
   ]
  },
  {
   "cell_type": "code",
   "execution_count": null,
   "id": "fe6055f9",
   "metadata": {},
   "outputs": [],
   "source": [
    "# Upload the cet output file\n",
    "cet_output_dict = files.upload()\n",
    "if len(cet_output_dict) == 1:\n",
    "    cet_output_filepath = list(cet_output_dict.keys())[0]\n",
    "else:\n",
    "    print(\"Must select exactly one file\")"
   ]
  },
  {
   "cell_type": "code",
   "execution_count": null,
   "id": "82c9b39d",
   "metadata": {},
   "outputs": [],
   "source": [
    "cet_cleaned_results = cet_scan.parse_cet_output(cet_output_filepath)\n",
    "compared_df = cet_scan.compare_cet_to_flexvalue(cet_cleaned_results, outputs_table)\n",
    "compared_df"
   ]
  },
  {
   "cell_type": "code",
   "execution_count": null,
   "id": "eb79f79a",
   "metadata": {},
   "outputs": [],
   "source": [
    "from flexvalue.plots import plot_results\n",
    "plot_results(outputs_table_totals, electric_benefits, gas_benefits)"
   ]
  }
 ],
 "metadata": {
  "kernelspec": {
   "display_name": "Python 3",
   "language": "python",
   "name": "python3"
  },
  "language_info": {
   "codemirror_mode": {
    "name": "ipython",
    "version": 3
   },
   "file_extension": ".py",
   "mimetype": "text/x-python",
   "name": "python",
   "nbconvert_exporter": "python",
   "pygments_lexer": "ipython3",
   "version": "3.7.4"
  }
 },
 "nbformat": 4,
 "nbformat_minor": 5
}
