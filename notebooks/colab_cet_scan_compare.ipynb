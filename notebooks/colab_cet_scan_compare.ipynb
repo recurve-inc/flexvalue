{
 "cells": [
  {
   "cell_type": "code",
   "execution_count": 1,
   "id": "d28be2f8",
   "metadata": {},
   "outputs": [
    {
     "name": "stdout",
     "output_type": "stream",
     "text": [
      "Defaulting to user installation because normal site-packages is not writeable\n",
      "Requirement already satisfied: flexvalue==0.4.6 in /home/mkeas/.local/lib/python3.7/site-packages (0.4.6)\n",
      "Requirement already satisfied: scipy==1.7.2 in /home/mkeas/.local/lib/python3.7/site-packages (from flexvalue==0.4.6) (1.7.2)\n",
      "Requirement already satisfied: sqlalchemy<1.4.0 in /home/mkeas/.local/lib/python3.7/site-packages (from flexvalue==0.4.6) (1.3.24)\n",
      "Requirement already satisfied: nbconvert==6.3.0 in /home/mkeas/.local/lib/python3.7/site-packages (from flexvalue==0.4.6) (6.3.0)\n",
      "Requirement already satisfied: jinja2==3.0.3 in /home/mkeas/.local/lib/python3.7/site-packages (from flexvalue==0.4.6) (3.0.3)\n",
      "Requirement already satisfied: statsmodels==0.13.1 in /home/mkeas/.local/lib/python3.7/site-packages (from flexvalue==0.4.6) (0.13.1)\n",
      "Requirement already satisfied: numpy<1.23.0 in /home/mkeas/.local/lib/python3.7/site-packages (from flexvalue==0.4.6) (1.21.6)\n",
      "Requirement already satisfied: nbformat==5.1.3 in /home/mkeas/.local/lib/python3.7/site-packages (from flexvalue==0.4.6) (5.1.3)\n",
      "Requirement already satisfied: pandas==1.3.4 in /home/mkeas/.local/lib/python3.7/site-packages (from flexvalue==0.4.6) (1.3.4)\n",
      "Requirement already satisfied: matplotlib<3.6 in /home/mkeas/.local/lib/python3.7/site-packages (from flexvalue==0.4.6) (3.5.3)\n",
      "Requirement already satisfied: seaborn==0.11.2 in /home/mkeas/.local/lib/python3.7/site-packages (from flexvalue==0.4.6) (0.11.2)\n",
      "Requirement already satisfied: click==8.0.3 in /home/mkeas/.local/lib/python3.7/site-packages (from flexvalue==0.4.6) (8.0.3)\n",
      "Requirement already satisfied: importlib-metadata in /home/mkeas/.local/lib/python3.7/site-packages (from click==8.0.3->flexvalue==0.4.6) (4.11.4)\n",
      "Requirement already satisfied: MarkupSafe>=2.0 in /home/mkeas/.local/lib/python3.7/site-packages (from jinja2==3.0.3->flexvalue==0.4.6) (2.1.2)\n",
      "Requirement already satisfied: nbclient<0.6.0,>=0.5.0 in /home/mkeas/.local/lib/python3.7/site-packages (from nbconvert==6.3.0->flexvalue==0.4.6) (0.5.13)\n",
      "Requirement already satisfied: mistune<2,>=0.8.1 in /home/mkeas/.local/lib/python3.7/site-packages (from nbconvert==6.3.0->flexvalue==0.4.6) (0.8.4)\n",
      "Requirement already satisfied: jupyterlab-pygments in /home/mkeas/.local/lib/python3.7/site-packages (from nbconvert==6.3.0->flexvalue==0.4.6) (0.2.2)\n",
      "Requirement already satisfied: pandocfilters>=1.4.1 in /home/mkeas/.local/lib/python3.7/site-packages (from nbconvert==6.3.0->flexvalue==0.4.6) (1.5.0)\n",
      "Requirement already satisfied: traitlets>=5.0 in /home/mkeas/.local/lib/python3.7/site-packages (from nbconvert==6.3.0->flexvalue==0.4.6) (5.9.0)\n",
      "Requirement already satisfied: testpath in /home/mkeas/.local/lib/python3.7/site-packages (from nbconvert==6.3.0->flexvalue==0.4.6) (0.6.0)\n",
      "Requirement already satisfied: defusedxml in /home/mkeas/.local/lib/python3.7/site-packages (from nbconvert==6.3.0->flexvalue==0.4.6) (0.7.1)\n",
      "Requirement already satisfied: jupyter-core in /home/mkeas/.local/lib/python3.7/site-packages (from nbconvert==6.3.0->flexvalue==0.4.6) (4.12.0)\n",
      "Requirement already satisfied: pygments>=2.4.1 in /home/mkeas/.local/lib/python3.7/site-packages (from nbconvert==6.3.0->flexvalue==0.4.6) (2.14.0)\n",
      "Requirement already satisfied: bleach in /home/mkeas/.local/lib/python3.7/site-packages (from nbconvert==6.3.0->flexvalue==0.4.6) (6.0.0)\n",
      "Requirement already satisfied: entrypoints>=0.2.2 in /home/mkeas/.local/lib/python3.7/site-packages (from nbconvert==6.3.0->flexvalue==0.4.6) (0.4)\n",
      "Requirement already satisfied: jsonschema!=2.5.0,>=2.4 in /home/mkeas/.local/lib/python3.7/site-packages (from nbformat==5.1.3->flexvalue==0.4.6) (3.2.0)\n",
      "Requirement already satisfied: ipython-genutils in /home/mkeas/.local/lib/python3.7/site-packages (from nbformat==5.1.3->flexvalue==0.4.6) (0.2.0)\n",
      "Requirement already satisfied: pytz>=2017.3 in /home/mkeas/.local/lib/python3.7/site-packages (from pandas==1.3.4->flexvalue==0.4.6) (2023.2)\n",
      "Requirement already satisfied: python-dateutil>=2.7.3 in /home/mkeas/.local/lib/python3.7/site-packages (from pandas==1.3.4->flexvalue==0.4.6) (2.8.2)\n",
      "Requirement already satisfied: patsy>=0.5.2 in /home/mkeas/.local/lib/python3.7/site-packages (from statsmodels==0.13.1->flexvalue==0.4.6) (0.5.3)\n",
      "Requirement already satisfied: pyparsing>=2.2.1 in /home/mkeas/.local/lib/python3.7/site-packages (from matplotlib<3.6->flexvalue==0.4.6) (3.0.9)\n",
      "Requirement already satisfied: fonttools>=4.22.0 in /home/mkeas/.local/lib/python3.7/site-packages (from matplotlib<3.6->flexvalue==0.4.6) (4.38.0)\n",
      "Requirement already satisfied: pillow>=6.2.0 in /home/mkeas/.local/lib/python3.7/site-packages (from matplotlib<3.6->flexvalue==0.4.6) (9.4.0)\n",
      "Requirement already satisfied: kiwisolver>=1.0.1 in /home/mkeas/.local/lib/python3.7/site-packages (from matplotlib<3.6->flexvalue==0.4.6) (1.4.4)\n",
      "Requirement already satisfied: packaging>=20.0 in /home/mkeas/.local/lib/python3.7/site-packages (from matplotlib<3.6->flexvalue==0.4.6) (23.0)\n",
      "Requirement already satisfied: cycler>=0.10 in /home/mkeas/.local/lib/python3.7/site-packages (from matplotlib<3.6->flexvalue==0.4.6) (0.11.0)\n",
      "Requirement already satisfied: six>=1.11.0 in /home/mkeas/.local/lib/python3.7/site-packages (from jsonschema!=2.5.0,>=2.4->nbformat==5.1.3->flexvalue==0.4.6) (1.16.0)\n",
      "Requirement already satisfied: pyrsistent>=0.14.0 in /home/mkeas/.local/lib/python3.7/site-packages (from jsonschema!=2.5.0,>=2.4->nbformat==5.1.3->flexvalue==0.4.6) (0.19.3)\n",
      "Requirement already satisfied: setuptools in /home/mkeas/.local/lib/python3.7/site-packages (from jsonschema!=2.5.0,>=2.4->nbformat==5.1.3->flexvalue==0.4.6) (62.3.2)\n",
      "Requirement already satisfied: attrs>=17.4.0 in /usr/lib/python3/dist-packages (from jsonschema!=2.5.0,>=2.4->nbformat==5.1.3->flexvalue==0.4.6) (17.4.0)\n",
      "Requirement already satisfied: typing-extensions in /home/mkeas/.local/lib/python3.7/site-packages (from kiwisolver>=1.0.1->matplotlib<3.6->flexvalue==0.4.6) (4.2.0)\n",
      "Requirement already satisfied: nest-asyncio in /home/mkeas/.local/lib/python3.7/site-packages (from nbclient<0.6.0,>=0.5.0->nbconvert==6.3.0->flexvalue==0.4.6) (1.5.6)\n",
      "Requirement already satisfied: jupyter-client>=6.1.5 in /home/mkeas/.local/lib/python3.7/site-packages (from nbclient<0.6.0,>=0.5.0->nbconvert==6.3.0->flexvalue==0.4.6) (7.4.9)\n",
      "Requirement already satisfied: webencodings in /home/mkeas/.local/lib/python3.7/site-packages (from bleach->nbconvert==6.3.0->flexvalue==0.4.6) (0.5.1)\n",
      "Requirement already satisfied: zipp>=0.5 in /home/mkeas/.local/lib/python3.7/site-packages (from importlib-metadata->click==8.0.3->flexvalue==0.4.6) (3.8.0)\n",
      "Requirement already satisfied: tornado>=6.2 in /home/mkeas/.local/lib/python3.7/site-packages (from jupyter-client>=6.1.5->nbclient<0.6.0,>=0.5.0->nbconvert==6.3.0->flexvalue==0.4.6) (6.2)\n",
      "Requirement already satisfied: pyzmq>=23.0 in /home/mkeas/.local/lib/python3.7/site-packages (from jupyter-client>=6.1.5->nbclient<0.6.0,>=0.5.0->nbconvert==6.3.0->flexvalue==0.4.6) (25.0.0)\n",
      "\u001b[33mWARNING: There was an error checking the latest version of pip.\u001b[0m\u001b[33m\n",
      "\u001b[0mNote: you may need to restart the kernel to use updated packages.\n"
     ]
    }
   ],
   "source": [
    "pip install flexvalue==0.4.6"
   ]
  },
  {
   "cell_type": "code",
   "execution_count": null,
   "id": "c91d12dd",
   "metadata": {},
   "outputs": [],
   "source": [
    "!flexvalue download-avoided-costs-data-db --version 2020"
   ]
  },
  {
   "cell_type": "code",
   "execution_count": null,
   "id": "c113b1c9",
   "metadata": {},
   "outputs": [],
   "source": [
    "import os\n",
    "try:\n",
    "    # only works from colab\n",
    "    from google.colab import files\n",
    "except:\n",
    "    if not os.environ.get('DATABASE_LOCATION_ORIG'):\n",
    "        os.environ[\"DATABASE_LOCATION_ORIG\"] = os.environ.get('DATABASE_LOCATION', '.')\n",
    "    os.environ[\"DATABASE_LOCATION\"] = '../' + os.environ['DATABASE_LOCATION_ORIG'] \n",
    "import pandas as pd\n",
    "\n",
    "pd.set_option('display.max_rows', None)"
   ]
  },
  {
   "cell_type": "code",
   "execution_count": null,
   "id": "22387744",
   "metadata": {},
   "outputs": [],
   "source": [
    "from flexvalue.cet_flexvalue_compare import CET_Scan\n",
    "from pathlib import Path\n",
    "\n",
    "acc_version = '2020'\n",
    "directory = 'cet_scan'\n",
    "scan_name = 'Test_Run'\n",
    "cet_scan = CET_Scan(\n",
    "    directory=directory,\n",
    "    scan_name=scan_name,\n",
    "    program_year=\"2021\",\n",
    "    acc_version=acc_version,\n",
    "    program_admin=\"PGE\",\n",
    "    climate_zone=[\"12\", \"3A\", \"4\"],\n",
    "    mwh=[5000, 10, 2],\n",
    "    therms=[200, 3, 114],\n",
    "    units=[1, 1, 10],\n",
    "    ntg=[0.95, 0.4, 0.9],\n",
    "    eul=[7, 1, 1],\n",
    "    sector=[\"Non_Res\", \"Res\", \"Res\"],\n",
    "    deer_load_shape=[\n",
    "        \"DEER:HVAC_REFRIG_CHARGE\",\n",
    "        \"DEER:HVAC_Chillers\",\n",
    "        \"DEER:Indoor_CFL_Ltg\",\n",
    "    ],\n",
    "    gas_sector=[\"Commercial\", \"Residential\", \"Residential\"],\n",
    "    gas_savings_profile=[\"Annual\", \"Winter Only\", \"Summer Only\"],\n",
    "    admin_cost=[5000, 165, 299],\n",
    "    measure_cost=[220000, 310, 4044],\n",
    "    incentive=[200000, 66, 800],\n",
    ")\n",
    "\n",
    "user_inputs = cet_scan.generate_cet_input_file()\n",
    "print(\"Input and output files will be made available for download in subsequent cells.\")\n",
    "user_inputs"
   ]
  },
  {
   "cell_type": "code",
   "execution_count": null,
   "id": "1768cdba",
   "metadata": {},
   "outputs": [],
   "source": [
    "# This step downloads the CET zip file that you can then upload to CEDARS\n",
    "cet_zip_filepath = os.path.join(cet_scan.cet_path, f'{scan_name}.zip')\n",
    "files.download(cet_zip_filepath)\n",
    "print(\"Make sure to set the CET Run Parameters with the following:\\n- First year: 2021\\n- Avoided Costs: 2021\\n- Market Effects: 0%\")\n",
    "print('https://cedars.sound-data.com/accounts/login/?next=/cet_ui/')"
   ]
  },
  {
   "cell_type": "code",
   "execution_count": null,
   "id": "badd883b",
   "metadata": {},
   "outputs": [],
   "source": [
    "from flexvalue import FlexValueRun\n",
    "flx_run = FlexValueRun(database_version=acc_version)\n",
    "outputs_table, outputs_table_totals, electric_benefits, gas_benefits = flx_run.get_results(user_inputs=user_inputs)"
   ]
  },
  {
   "cell_type": "code",
   "execution_count": null,
   "id": "196d2be9",
   "metadata": {},
   "outputs": [],
   "source": [
    "display(outputs_table)"
   ]
  },
  {
   "cell_type": "code",
   "execution_count": null,
   "id": "6bbd06ce",
   "metadata": {},
   "outputs": [],
   "source": [
    "# Run this cell if you want to download the FLEXvalue output.\n",
    "outputs_filename = os.path.join(cet_scan.flexvalue_path, 'flexvalue_outputs.csv')\n",
    "outputs_table.to_csv(outputs_filename)\n",
    "files.download(outputs_filename)"
   ]
  },
  {
   "cell_type": "code",
   "execution_count": null,
   "id": "760aa91d",
   "metadata": {},
   "outputs": [],
   "source": [
    "# Upload the cet output file\n",
    "cet_output_dict = files.upload()\n",
    "if len(cet_output_dict) == 1:\n",
    "    cet_output_filepath = list(cet_output_dict.keys())[0]\n",
    "else:\n",
    "    print(\"Must select exactly one file\")"
   ]
  },
  {
   "cell_type": "code",
   "execution_count": null,
   "id": "e558f586",
   "metadata": {},
   "outputs": [],
   "source": [
    "cet_cleaned_results = cet_scan.parse_cet_output(cet_output_filepath)\n",
    "compared_df = cet_scan.compare_cet_to_flexvalue(cet_cleaned_results, outputs_table)\n",
    "compared_df"
   ]
  },
  {
   "cell_type": "code",
   "execution_count": null,
   "id": "09daf6ce",
   "metadata": {},
   "outputs": [],
   "source": [
    "from flexvalue.plots import plot_results\n",
    "plot_results(outputs_table_totals, electric_benefits, gas_benefits)"
   ]
  }
 ],
 "metadata": {
  "kernelspec": {
   "display_name": "Python 3",
   "language": "python",
   "name": "python3"
  },
  "language_info": {
   "codemirror_mode": {
    "name": "ipython",
    "version": 3
   },
   "file_extension": ".py",
   "mimetype": "text/x-python",
   "name": "python",
   "nbconvert_exporter": "python",
   "pygments_lexer": "ipython3",
   "version": "3.7.5"
  }
 },
 "nbformat": 4,
 "nbformat_minor": 5
}
