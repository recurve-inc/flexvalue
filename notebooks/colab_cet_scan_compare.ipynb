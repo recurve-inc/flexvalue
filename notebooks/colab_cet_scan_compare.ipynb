{
 "cells": [
  {
   "cell_type": "code",
   "execution_count": null,
   "id": "incoming-tulsa",
   "metadata": {},
   "outputs": [],
   "source": [
    "pip install flexvalue"
   ]
  },
  {
   "cell_type": "code",
   "execution_count": null,
   "id": "commercial-springfield",
   "metadata": {},
   "outputs": [],
   "source": [
    "!flexvalue download-avoided-costs-data-db --year 2020"
   ]
  },
  {
   "cell_type": "code",
   "execution_count": 1,
   "id": "representative-central",
   "metadata": {},
   "outputs": [
    {
     "ename": "ModuleNotFoundError",
     "evalue": "No module named 'google'",
     "output_type": "error",
     "traceback": [
      "\u001b[0;31m---------------------------------------------------------------------------\u001b[0m",
      "\u001b[0;31mModuleNotFoundError\u001b[0m                       Traceback (most recent call last)",
      "\u001b[0;32m<ipython-input-1-1f07608ca74b>\u001b[0m in \u001b[0;36m<module>\u001b[0;34m\u001b[0m\n\u001b[0;32m----> 1\u001b[0;31m \u001b[0;32mfrom\u001b[0m \u001b[0mgoogle\u001b[0m\u001b[0;34m.\u001b[0m\u001b[0mcolab\u001b[0m \u001b[0;32mimport\u001b[0m \u001b[0mfiles\u001b[0m\u001b[0;34m\u001b[0m\u001b[0;34m\u001b[0m\u001b[0m\n\u001b[0m\u001b[1;32m      2\u001b[0m \u001b[0;32mimport\u001b[0m \u001b[0mpandas\u001b[0m \u001b[0;32mas\u001b[0m \u001b[0mpd\u001b[0m\u001b[0;34m\u001b[0m\u001b[0;34m\u001b[0m\u001b[0m\n",
      "\u001b[0;31mModuleNotFoundError\u001b[0m: No module named 'google'"
     ]
    }
   ],
   "source": [
    "from google.colab import files\n",
    "import pandas as pd"
   ]
  },
  {
   "cell_type": "code",
   "execution_count": 2,
   "id": "upset-thermal",
   "metadata": {},
   "outputs": [
    {
     "name": "stdout",
     "output_type": "stream",
     "text": [
      "Res/DEER:HVAC_Chillers Pairing Not Allowed in CET. Switching to Non_Res\n",
      "Your CET input file is at cet_scan/Test_Run3/cet/Test_Run3.zip\n",
      "Your FLEXvalue input file is at cet_scan/Test_Run3/flexvalue/Test_Run3_flexvalue_user_inputs.csv\n"
     ]
    }
   ],
   "source": [
    "from flexvalue.cet_flexvalue_compare import CET_Scan\n",
    "from pathlib import Path\n",
    "\n",
    "acc_version = '2020'\n",
    "\n",
    "cet_scan = CET_Scan(\n",
    "    directory='cet_scan',\n",
    "    scan_name=\"Test_Run3\",\n",
    "    program_year=\"2021\",\n",
    "    acc_version=acc_version,\n",
    "    program_admin=\"PGE\",\n",
    "    climate_zone=[\"12\", \"3A\", \"4\"],\n",
    "    mwh=[5000, 10, 2],\n",
    "    therms=[200, 3, 114],\n",
    "    units=[1, 1, 10],\n",
    "    ntg=[0.95, 0.4, 0.9],\n",
    "    eul=[7, 1, 1],\n",
    "    sector=[\"NonRes\", \"Res\", \"Res\"],\n",
    "    deer_load_shape=[\n",
    "        \"DEER:HVAC_Chillers\",\n",
    "        \"DEER:HVAC_Chillers\",\n",
    "        \"DEER:Indoor_CFL_Ltg\",\n",
    "    ],\n",
    "    gas_sector=[\"Residential\", \"Residential\", \"Residential\"],\n",
    "    gas_savings_profile=[\"Annual\", \"Winter Only\", \"Summer Only\"],\n",
    "    admin_cost=[5000, 165, 299],\n",
    "    measure_cost=[220000, 310, 4044],\n",
    "    incentive=[200000, 66, 800],\n",
    ")\n",
    "\n",
    "user_inputs = cet_scan.generate_cet_input_file()"
   ]
  },
  {
   "cell_type": "code",
   "execution_count": null,
   "id": "electric-fellowship",
   "metadata": {},
   "outputs": [],
   "source": [
    "user_inputs"
   ]
  },
  {
   "cell_type": "code",
   "execution_count": null,
   "id": "egyptian-excellence",
   "metadata": {},
   "outputs": [],
   "source": [
    "from flexvalue import FlexValueRun\n",
    "flx_run = FlexValueRun(database_year=acc_version)\n",
    "outputs_table, outputs_table_totals, electric_benefits, gas_benefits = flx_run.get_results(user_inputs=user_inputs)"
   ]
  },
  {
   "cell_type": "code",
   "execution_count": null,
   "id": "mechanical-oxygen",
   "metadata": {},
   "outputs": [],
   "source": [
    "from IPython.display import FileLink\n",
    "# provide outputs table for download\n",
    "outputs_filename = os.path.join(cet_scan.flexvalue_path, 'flexvalue_outputs.csv')\n",
    "outputs_table.to_csv(outputs_filename)\n",
    "display(FileLink(outputs_filename))\n",
    "display(outputs_table)"
   ]
  },
  {
   "cell_type": "code",
   "execution_count": null,
   "id": "peripheral-content",
   "metadata": {},
   "outputs": [],
   "source": [
    "# Upload the cet output file\n",
    "cet_output_dict = files.upload()\n",
    "if len(metered_ls_dict) == 1:\n",
    "    cet_output = list(cet_output_dict.values())[0]\n",
    "else:\n",
    "    print(\"Must select exactly one file\")"
   ]
  },
  {
   "cell_type": "code",
   "execution_count": null,
   "id": "twenty-timeline",
   "metadata": {},
   "outputs": [],
   "source": [
    "cet_cleaned_results = cet_scan.parse_cet_output()\n",
    "compared_df = cet_scan.compare_cet_to_flexvalue(cet_cleaned_results, outputs_table)\n",
    "compared_df"
   ]
  },
  {
   "cell_type": "code",
   "execution_count": null,
   "id": "significant-organization",
   "metadata": {},
   "outputs": [],
   "source": [
    "from flexvalue.plots import plot_results\n",
    "plot_results(outputs_table_totals, electric_benefits, gas_benefits)"
   ]
  }
 ],
 "metadata": {
  "kernelspec": {
   "display_name": "Python 3",
   "language": "python",
   "name": "python3"
  },
  "language_info": {
   "codemirror_mode": {
    "name": "ipython",
    "version": 3
   },
   "file_extension": ".py",
   "mimetype": "text/x-python",
   "name": "python",
   "nbconvert_exporter": "python",
   "pygments_lexer": "ipython3",
   "version": "3.7.4"
  }
 },
 "nbformat": 4,
 "nbformat_minor": 5
}
